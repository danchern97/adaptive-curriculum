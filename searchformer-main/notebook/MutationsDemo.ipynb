{
 "cells": [
  {
   "cell_type": "code",
   "execution_count": 3,
   "id": "728155e6",
   "metadata": {},
   "outputs": [
    {
     "name": "stdout",
     "output_type": "stream",
     "text": [
      "pygame 2.6.1 (SDL 2.28.4, Python 3.10.18)\n",
      "Hello from the pygame community. https://www.pygame.org/contribute.html\n"
     ]
    }
   ],
   "source": [
    "# Import and Setup\n",
    "import sys\n",
    "from pathlib import Path\n",
    "\n",
    "# Find repo root by walking up from the current working directory until we see the 'searchformer' package\n",
    "def _find_repo_root(start: Path) -> Path:\n",
    "    p = start.resolve()\n",
    "    for q in [p, *p.parents]:\n",
    "        if (q / \"searchformer\").is_dir():\n",
    "            return q\n",
    "    return p\n",
    "\n",
    "repo_root = _find_repo_root(Path.cwd())\n",
    "if str(repo_root) not in sys.path:\n",
    "    sys.path.insert(0, str(repo_root))\n",
    "\n",
    "from searchformer.sokoban_difficultyv2 import (\n",
    "    h_partial_solve,\n",
    "    h_remove_walls,\n",
    "    h_add_walls,\n",
    "    h_add_box_and_dock,\n",
    "    _ascii,\n",
    "    _rerun_astar_from,\n",
    ")\n",
    "from searchformer.sokoban import Sokoban"
   ]
  },
  {
   "cell_type": "code",
   "execution_count": 4,
   "id": "62842718",
   "metadata": {},
   "outputs": [],
   "source": [
    "# Seed Randomness\n",
    "import random\n",
    "random.seed(0)"
   ]
  },
  {
   "cell_type": "code",
   "execution_count": 5,
   "id": "3fbde5c7",
   "metadata": {},
   "outputs": [],
   "source": [
    "# Helper: Pretty Print State\n",
    "def show(label, s: Sokoban):\n",
    "    print(label)\n",
    "    print(_ascii(s))"
   ]
  },
  {
   "cell_type": "code",
   "execution_count": 6,
   "id": "96429a05",
   "metadata": {},
   "outputs": [],
   "source": [
    "# Build a Small Base Puzzle\n",
    "from pathlib import Path\n",
    "level_path = repo_root / \"static\" / \"sokoban\" / \"example-7722.txt\"\n",
    "base_sokoban = Sokoban.from_level_file(str(level_path))"
   ]
  },
  {
   "cell_type": "code",
   "execution_count": 7,
   "id": "ad1d3f77",
   "metadata": {},
   "outputs": [
    {
     "name": "stdout",
     "output_type": "stream",
     "text": [
      "ORIGINAL\n",
      "#######\n",
      "#  .  #\n",
      "#  #  #\n",
      "# @   #\n",
      "# $$. #\n",
      "#  #  #\n",
      "#######\n"
     ]
    }
   ],
   "source": [
    "# Solve Base Puzzle to Get Original Trace\n",
    "orig_trace = _rerun_astar_from(base_sokoban)\n",
    "show('ORIGINAL', base_sokoban)"
   ]
  },
  {
   "cell_type": "code",
   "execution_count": 8,
   "id": "2c428873",
   "metadata": {},
   "outputs": [
    {
     "name": "stdout",
     "output_type": "stream",
     "text": [
      "partial_solve: BEFORE\n",
      "#######\n",
      "#  .  #\n",
      "#  #  #\n",
      "# @   #\n",
      "# $$. #\n",
      "#  #  #\n",
      "#######\n",
      "partial_solve: AFTER\n",
      "#######\n",
      "#  .  #\n",
      "#  #  #\n",
      "#     #\n",
      "# $$. #\n",
      "#@ #  #\n",
      "#######\n"
     ]
    }
   ],
   "source": [
    "# Mutation: partial_solve (before/after)\n",
    "mut_s, ok = h_partial_solve(orig_trace, pct=0.3)\n",
    "if ok:\n",
    "    show('partial_solve: BEFORE', base_sokoban)\n",
    "    show('partial_solve: AFTER', mut_s)\n",
    "    _ = _rerun_astar_from(mut_s)"
   ]
  },
  {
   "cell_type": "code",
   "execution_count": 9,
   "id": "8141b998",
   "metadata": {},
   "outputs": [
    {
     "name": "stdout",
     "output_type": "stream",
     "text": [
      "remove_walls: BEFORE\n",
      "#######\n",
      "#  .  #\n",
      "#  #  #\n",
      "# @   #\n",
      "# $$. #\n",
      "#  #  #\n",
      "#######\n",
      "remove_walls: AFTER\n",
      "#######\n",
      "#  .  #\n",
      "#     #\n",
      "# @   #\n",
      "# $$. #\n",
      "#  #  #\n",
      "#######\n"
     ]
    }
   ],
   "source": [
    "# Mutation: remove_walls (before/after)\n",
    "mut_s, ok = h_remove_walls(base_sokoban, count=1)\n",
    "if ok:\n",
    "    show('remove_walls: BEFORE', base_sokoban)\n",
    "    show('remove_walls: AFTER', mut_s)"
   ]
  },
  {
   "cell_type": "code",
   "execution_count": 10,
   "id": "458f8586",
   "metadata": {},
   "outputs": [
    {
     "name": "stdout",
     "output_type": "stream",
     "text": [
      "add_walls: BEFORE\n",
      "#######\n",
      "#  .  #\n",
      "#  #  #\n",
      "# @   #\n",
      "# $$. #\n",
      "#  #  #\n",
      "#######\n",
      "add_walls: AFTER\n",
      "#######\n",
      "#  .  #\n",
      "#  #  #\n",
      "# @   #\n",
      "# $$. #\n",
      "#  # ##\n",
      "#######\n"
     ]
    }
   ],
   "source": [
    "# Mutation: add_walls (before/after)\n",
    "mut_s, ok = h_add_walls(base_sokoban, count=1)\n",
    "if ok:\n",
    "    show('add_walls: BEFORE', base_sokoban)\n",
    "    show('add_walls: AFTER', mut_s)"
   ]
  },
  {
   "cell_type": "code",
   "execution_count": 11,
   "id": "7e4bfe11",
   "metadata": {},
   "outputs": [
    {
     "name": "stdout",
     "output_type": "stream",
     "text": [
      "add_box_and_dock: BEFORE\n",
      "#######\n",
      "#  .  #\n",
      "#  #  #\n",
      "# @   #\n",
      "# $$. #\n",
      "#  #  #\n",
      "#######\n",
      "add_box_and_dock: AFTER\n",
      "#######\n",
      "#  . .#\n",
      "#  # $#\n",
      "# @   #\n",
      "# $$. #\n",
      "#  #  #\n",
      "#######\n"
     ]
    }
   ],
   "source": [
    "# Mutation: add_box_and_dock (before/after)\n",
    "mut_s, ok = h_add_box_and_dock(base_sokoban)\n",
    "if ok:\n",
    "    show('add_box_and_dock: BEFORE', base_sokoban)\n",
    "    show('add_box_and_dock: AFTER', mut_s)"
   ]
  }
 ],
 "metadata": {
  "kernelspec": {
   "display_name": "searchformer",
   "language": "python",
   "name": "python3"
  },
  "language_info": {
   "codemirror_mode": {
    "name": "ipython",
    "version": 3
   },
   "file_extension": ".py",
   "mimetype": "text/x-python",
   "name": "python",
   "nbconvert_exporter": "python",
   "pygments_lexer": "ipython3",
   "version": "3.10.18"
  }
 },
 "nbformat": 4,
 "nbformat_minor": 5
}
